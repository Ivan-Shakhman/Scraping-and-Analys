{
 "cells": [
  {
   "metadata": {},
   "cell_type": "code",
   "source": [
    "import pandas as pd\n",
    "import matplotlib.pyplot as plt\n",
    "\n",
    "df = pd.read_csv(\"../scrap/dataset.csv\")"
   ],
   "id": "2d180a8558f4252c",
   "outputs": [],
   "execution_count": null
  },
  {
   "metadata": {},
   "cell_type": "code",
   "source": [
    "#Statistic for percentage of Remote jobs\n",
    "remote_jobs = df[\"location\"].str.contains(\"Дистанційна\", case=False, na=False)\n",
    "\n",
    "plt.figure(figsize=(6, 6))\n",
    "remote_jobs.value_counts().plot(\n",
    "    kind=\"pie\", autopct=\"%1.1f%%\", colors=[\"lightblue\", \"lightgreen\"]\n",
    ")\n",
    "plt.title(\"Percentage of Remote Jobs\")\n",
    "plt.ylabel(\"\")\n",
    "plt.tight_layout()\n",
    "plt.show()"
   ],
   "id": "afa00964bd93d4cf",
   "outputs": [],
   "execution_count": null
  },
  {
   "metadata": {},
   "cell_type": "markdown",
   "source": "",
   "id": "981a24aa81ef1abe"
  },
  {
   "metadata": {},
   "cell_type": "code",
   "source": [
    "\n",
    "df[\"experience_required\"] = pd.to_numeric(df[\"experience_required\"], errors=\"coerce\")\n",
    "plt.figure(figsize=(10, 6))\n",
    "experience = df[\"experience_required\"].dropna()\n",
    "experience.plot(kind=\"hist\", bins=20, color=\"lightgreen\", edgecolor=\"black\")\n",
    "plt.title(\"Rating of Experience\")\n",
    "plt.xlabel(\"Experience Required\")\n",
    "plt.ylabel(\"Count of vacations\")\n",
    "plt.tight_layout()\n",
    "plt.show()"
   ],
   "id": "7aa78819754fd99f",
   "outputs": [],
   "execution_count": null
  },
  {
   "metadata": {},
   "cell_type": "code",
   "source": [
    "#Rating of required skills\n",
    "skills = df[\"skills\"].dropna().str.split(\",\").explode().value_counts()\n",
    "\n",
    "plt.figure(figsize=(10, 6))\n",
    "skills.head(10).plot(kind=\"bar\", color=\"skyblue\")\n",
    "plt.title(\"Rating of required skills\")\n",
    "plt.xlabel(\"Skills\")\n",
    "plt.ylabel(\"Count of vacations\")\n",
    "plt.xticks(rotation=45, ha=\"right\")\n",
    "plt.tight_layout()\n",
    "plt.show()"
   ],
   "id": "7431d0033506cd9e",
   "outputs": [],
   "execution_count": null
  }
 ],
 "metadata": {
  "kernelspec": {
   "display_name": "Python 3",
   "language": "python",
   "name": "python3"
  },
  "language_info": {
   "codemirror_mode": {
    "name": "ipython",
    "version": 2
   },
   "file_extension": ".py",
   "mimetype": "text/x-python",
   "name": "python",
   "nbconvert_exporter": "python",
   "pygments_lexer": "ipython2",
   "version": "2.7.6"
  }
 },
 "nbformat": 4,
 "nbformat_minor": 5
}
